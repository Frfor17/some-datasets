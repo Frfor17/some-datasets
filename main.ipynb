{
 "cells": [
  {
   "cell_type": "code",
   "execution_count": 1,
   "metadata": {},
   "outputs": [
    {
     "name": "stdout",
     "output_type": "stream",
     "text": [
      "hello world!\n"
     ]
    }
   ],
   "source": [
    "print(\"hello world!\")"
   ]
  },
  {
   "cell_type": "code",
   "execution_count": 2,
   "metadata": {},
   "outputs": [
    {
     "name": "stdout",
     "output_type": "stream",
     "text": [
      "1.26.4\n",
      "1.2.7\n"
     ]
    }
   ],
   "source": [
    "import numpy\n",
    "import catboost\n",
    "print(numpy.__version__)\n",
    "print(catboost.__version__)"
   ]
  },
  {
   "cell_type": "code",
   "execution_count": 3,
   "metadata": {},
   "outputs": [],
   "source": [
    "import pandas as pd\n",
    "import matplotlib.pyplot as plt\n",
    "import numpy as np\n",
    "from catboost import Pool, CatBoostRegressor"
   ]
  },
  {
   "cell_type": "code",
   "execution_count": 5,
   "metadata": {},
   "outputs": [],
   "source": [
    "train = pd.read_parquet('train_main.parquet')\n",
    "test = pd.read_parquet('test_main.parquet')"
   ]
  },
  {
   "cell_type": "code",
   "execution_count": 6,
   "metadata": {},
   "outputs": [
    {
     "name": "stdout",
     "output_type": "stream",
     "text": [
      "Данные для обучения: (213345, 280)\n",
      "Тестовые данные: (318451, 280)\n"
     ]
    }
   ],
   "source": [
    "print('Данные для обучения:', train.shape)\n",
    "print('Тестовые данные:', test.shape)"
   ]
  },
  {
   "cell_type": "code",
   "execution_count": 7,
   "metadata": {},
   "outputs": [
    {
     "data": {
      "text/html": [
       "<div>\n",
       "<style scoped>\n",
       "    .dataframe tbody tr th:only-of-type {\n",
       "        vertical-align: middle;\n",
       "    }\n",
       "\n",
       "    .dataframe tbody tr th {\n",
       "        vertical-align: top;\n",
       "    }\n",
       "\n",
       "    .dataframe thead th {\n",
       "        text-align: right;\n",
       "    }\n",
       "</style>\n",
       "<table border=\"1\" class=\"dataframe\">\n",
       "  <thead>\n",
       "    <tr style=\"text-align: right;\">\n",
       "      <th></th>\n",
       "      <th>user_id</th>\n",
       "      <th>app_children_cnt</th>\n",
       "      <th>app_dependent_cnt</th>\n",
       "      <th>app_family_cnt</th>\n",
       "      <th>app_income_app</th>\n",
       "      <th>app_real_estate_ind</th>\n",
       "      <th>app_vehicle_ind</th>\n",
       "      <th>avg_dep_avg_balance_12month_amt</th>\n",
       "      <th>avg_dep_avg_balance_12month_amt_term</th>\n",
       "      <th>avg_dep_avg_balance_12month_amt_term_savings</th>\n",
       "      <th>...</th>\n",
       "      <th>savings_sum_oms_debet_3m</th>\n",
       "      <th>savings_sum_oms_debet_6m</th>\n",
       "      <th>savings_sum_oms_debet_9m</th>\n",
       "      <th>savings_sum_oms_debet_12m</th>\n",
       "      <th>savings_service_model_cd</th>\n",
       "      <th>savings_pension_flg</th>\n",
       "      <th>savings_deposit_flg</th>\n",
       "      <th>savings_safe_acc_flg</th>\n",
       "      <th>savings_broker_flg</th>\n",
       "      <th>savings_oms_flg</th>\n",
       "    </tr>\n",
       "  </thead>\n",
       "  <tbody>\n",
       "    <tr>\n",
       "      <th>0</th>\n",
       "      <td>9</td>\n",
       "      <td>NaN</td>\n",
       "      <td>NaN</td>\n",
       "      <td>NaN</td>\n",
       "      <td>NaN</td>\n",
       "      <td>NaN</td>\n",
       "      <td>NaN</td>\n",
       "      <td>NaN</td>\n",
       "      <td>NaN</td>\n",
       "      <td>4027.373535</td>\n",
       "      <td>...</td>\n",
       "      <td>34.613216</td>\n",
       "      <td>0.000000</td>\n",
       "      <td>4.310414</td>\n",
       "      <td>75.214180</td>\n",
       "      <td>Массовый</td>\n",
       "      <td>0</td>\n",
       "      <td>0</td>\n",
       "      <td>1</td>\n",
       "      <td>0</td>\n",
       "      <td>0</td>\n",
       "    </tr>\n",
       "    <tr>\n",
       "      <th>1</th>\n",
       "      <td>11</td>\n",
       "      <td>NaN</td>\n",
       "      <td>NaN</td>\n",
       "      <td>NaN</td>\n",
       "      <td>NaN</td>\n",
       "      <td>NaN</td>\n",
       "      <td>NaN</td>\n",
       "      <td>NaN</td>\n",
       "      <td>NaN</td>\n",
       "      <td>NaN</td>\n",
       "      <td>...</td>\n",
       "      <td>6.237672</td>\n",
       "      <td>0.000000</td>\n",
       "      <td>0.000000</td>\n",
       "      <td>0.000000</td>\n",
       "      <td>Массовый</td>\n",
       "      <td>0</td>\n",
       "      <td>0</td>\n",
       "      <td>1</td>\n",
       "      <td>0</td>\n",
       "      <td>0</td>\n",
       "    </tr>\n",
       "    <tr>\n",
       "      <th>2</th>\n",
       "      <td>12</td>\n",
       "      <td>0.0</td>\n",
       "      <td>0.0</td>\n",
       "      <td>0.0</td>\n",
       "      <td>105372.960938</td>\n",
       "      <td>0.0</td>\n",
       "      <td>0.0</td>\n",
       "      <td>315208.781250</td>\n",
       "      <td>NaN</td>\n",
       "      <td>274816.375000</td>\n",
       "      <td>...</td>\n",
       "      <td>0.000000</td>\n",
       "      <td>53.134129</td>\n",
       "      <td>90.025238</td>\n",
       "      <td>0.000000</td>\n",
       "      <td>Массовый</td>\n",
       "      <td>0</td>\n",
       "      <td>0</td>\n",
       "      <td>1</td>\n",
       "      <td>0</td>\n",
       "      <td>0</td>\n",
       "    </tr>\n",
       "    <tr>\n",
       "      <th>3</th>\n",
       "      <td>13</td>\n",
       "      <td>1.0</td>\n",
       "      <td>0.0</td>\n",
       "      <td>3.0</td>\n",
       "      <td>0.000000</td>\n",
       "      <td>0.0</td>\n",
       "      <td>0.0</td>\n",
       "      <td>43187.953125</td>\n",
       "      <td>NaN</td>\n",
       "      <td>5277.233887</td>\n",
       "      <td>...</td>\n",
       "      <td>0.000000</td>\n",
       "      <td>22.276114</td>\n",
       "      <td>82.070015</td>\n",
       "      <td>117.386795</td>\n",
       "      <td>Массовый</td>\n",
       "      <td>0</td>\n",
       "      <td>0</td>\n",
       "      <td>1</td>\n",
       "      <td>0</td>\n",
       "      <td>0</td>\n",
       "    </tr>\n",
       "    <tr>\n",
       "      <th>4</th>\n",
       "      <td>15</td>\n",
       "      <td>NaN</td>\n",
       "      <td>NaN</td>\n",
       "      <td>NaN</td>\n",
       "      <td>NaN</td>\n",
       "      <td>0.0</td>\n",
       "      <td>0.0</td>\n",
       "      <td>NaN</td>\n",
       "      <td>NaN</td>\n",
       "      <td>0.000000</td>\n",
       "      <td>...</td>\n",
       "      <td>0.000000</td>\n",
       "      <td>0.000000</td>\n",
       "      <td>0.000000</td>\n",
       "      <td>33.072178</td>\n",
       "      <td>Массовый</td>\n",
       "      <td>0</td>\n",
       "      <td>0</td>\n",
       "      <td>1</td>\n",
       "      <td>0</td>\n",
       "      <td>0</td>\n",
       "    </tr>\n",
       "  </tbody>\n",
       "</table>\n",
       "<p>5 rows × 280 columns</p>\n",
       "</div>"
      ],
      "text/plain": [
       "   user_id  app_children_cnt  app_dependent_cnt  app_family_cnt  \\\n",
       "0        9               NaN                NaN             NaN   \n",
       "1       11               NaN                NaN             NaN   \n",
       "2       12               0.0                0.0             0.0   \n",
       "3       13               1.0                0.0             3.0   \n",
       "4       15               NaN                NaN             NaN   \n",
       "\n",
       "   app_income_app  app_real_estate_ind  app_vehicle_ind  \\\n",
       "0             NaN                  NaN              NaN   \n",
       "1             NaN                  NaN              NaN   \n",
       "2   105372.960938                  0.0              0.0   \n",
       "3        0.000000                  0.0              0.0   \n",
       "4             NaN                  0.0              0.0   \n",
       "\n",
       "   avg_dep_avg_balance_12month_amt  avg_dep_avg_balance_12month_amt_term  \\\n",
       "0                              NaN                                   NaN   \n",
       "1                              NaN                                   NaN   \n",
       "2                    315208.781250                                   NaN   \n",
       "3                     43187.953125                                   NaN   \n",
       "4                              NaN                                   NaN   \n",
       "\n",
       "   avg_dep_avg_balance_12month_amt_term_savings  ...  \\\n",
       "0                                   4027.373535  ...   \n",
       "1                                           NaN  ...   \n",
       "2                                 274816.375000  ...   \n",
       "3                                   5277.233887  ...   \n",
       "4                                      0.000000  ...   \n",
       "\n",
       "   savings_sum_oms_debet_3m  savings_sum_oms_debet_6m  \\\n",
       "0                 34.613216                  0.000000   \n",
       "1                  6.237672                  0.000000   \n",
       "2                  0.000000                 53.134129   \n",
       "3                  0.000000                 22.276114   \n",
       "4                  0.000000                  0.000000   \n",
       "\n",
       "   savings_sum_oms_debet_9m  savings_sum_oms_debet_12m  \\\n",
       "0                  4.310414                  75.214180   \n",
       "1                  0.000000                   0.000000   \n",
       "2                 90.025238                   0.000000   \n",
       "3                 82.070015                 117.386795   \n",
       "4                  0.000000                  33.072178   \n",
       "\n",
       "   savings_service_model_cd  savings_pension_flg  savings_deposit_flg  \\\n",
       "0                  Массовый                    0                    0   \n",
       "1                  Массовый                    0                    0   \n",
       "2                  Массовый                    0                    0   \n",
       "3                  Массовый                    0                    0   \n",
       "4                  Массовый                    0                    0   \n",
       "\n",
       "   savings_safe_acc_flg  savings_broker_flg  savings_oms_flg  \n",
       "0                     1                   0                0  \n",
       "1                     1                   0                0  \n",
       "2                     1                   0                0  \n",
       "3                     1                   0                0  \n",
       "4                     1                   0                0  \n",
       "\n",
       "[5 rows x 280 columns]"
      ]
     },
     "execution_count": 7,
     "metadata": {},
     "output_type": "execute_result"
    }
   ],
   "source": [
    "train.head(n = 5)"
   ]
  },
  {
   "cell_type": "code",
   "execution_count": 8,
   "metadata": {},
   "outputs": [
    {
     "name": "stdout",
     "output_type": "stream",
     "text": [
      "\n",
      "Columns with missing values:\n",
      " vehicle_counrty_type_nm    206739\n",
      "max_amt_foreign_cur_5y     201136\n",
      "max_amt_dep_6m             182526\n",
      "min_amt_term_g1y           180330\n",
      "max_amt_dep_act            175074\n",
      "                            ...  \n",
      "cnt_foreign_cur_5y             26\n",
      "cnt_save_5y                    26\n",
      "cnt_grow_5y                    26\n",
      "cnt_term_g1y                   26\n",
      "cnt_manage_5y                  26\n",
      "Length: 167, dtype: int64\n"
     ]
    }
   ],
   "source": [
    "missing_values = train.isnull().sum().sort_values(ascending = False)\n",
    "missing_values = missing_values[missing_values > 0]\n",
    "print('\\nColumns with missing values:\\n', missing_values)"
   ]
  },
  {
   "cell_type": "code",
   "execution_count": 9,
   "metadata": {},
   "outputs": [
    {
     "data": {
      "text/plain": [
       "float64    266\n",
       "object       8\n",
       "int32        6\n",
       "Name: count, dtype: int64"
      ]
     },
     "execution_count": 9,
     "metadata": {},
     "output_type": "execute_result"
    }
   ],
   "source": [
    "train.dtypes.value_counts()"
   ]
  },
  {
   "cell_type": "code",
   "execution_count": 10,
   "metadata": {},
   "outputs": [],
   "source": [
    "features = train.columns\n",
    "\n",
    "categorical_features = train[features].select_dtypes(include=['object']).columns\n",
    "\n",
    "for feature in categorical_features:\n",
    "    train[feature] = train[feature].astype(str)\n",
    "\n",
    "categorical_features_indices = np.where(train.dtypes == 'object')[0]"
   ]
  },
  {
   "cell_type": "code",
   "execution_count": 11,
   "metadata": {},
   "outputs": [
    {
     "data": {
      "text/plain": [
       "(213345, 2)"
      ]
     },
     "execution_count": 11,
     "metadata": {},
     "output_type": "execute_result"
    }
   ],
   "source": [
    "target = pd.read_csv('train_target.csv')\n",
    "target.shape"
   ]
  },
  {
   "cell_type": "code",
   "execution_count": 12,
   "metadata": {},
   "outputs": [
    {
     "data": {
      "text/html": [
       "<div>\n",
       "<style scoped>\n",
       "    .dataframe tbody tr th:only-of-type {\n",
       "        vertical-align: middle;\n",
       "    }\n",
       "\n",
       "    .dataframe tbody tr th {\n",
       "        vertical-align: top;\n",
       "    }\n",
       "\n",
       "    .dataframe thead th {\n",
       "        text-align: right;\n",
       "    }\n",
       "</style>\n",
       "<table border=\"1\" class=\"dataframe\">\n",
       "  <thead>\n",
       "    <tr style=\"text-align: right;\">\n",
       "      <th></th>\n",
       "      <th>user_id</th>\n",
       "      <th>target</th>\n",
       "    </tr>\n",
       "  </thead>\n",
       "  <tbody>\n",
       "    <tr>\n",
       "      <th>0</th>\n",
       "      <td>9</td>\n",
       "      <td>0.00000</td>\n",
       "    </tr>\n",
       "    <tr>\n",
       "      <th>1</th>\n",
       "      <td>11</td>\n",
       "      <td>0.00000</td>\n",
       "    </tr>\n",
       "    <tr>\n",
       "      <th>2</th>\n",
       "      <td>12</td>\n",
       "      <td>219932.90625</td>\n",
       "    </tr>\n",
       "    <tr>\n",
       "      <th>3</th>\n",
       "      <td>13</td>\n",
       "      <td>631.77002</td>\n",
       "    </tr>\n",
       "    <tr>\n",
       "      <th>4</th>\n",
       "      <td>15</td>\n",
       "      <td>0.00000</td>\n",
       "    </tr>\n",
       "  </tbody>\n",
       "</table>\n",
       "</div>"
      ],
      "text/plain": [
       "   user_id        target\n",
       "0        9       0.00000\n",
       "1       11       0.00000\n",
       "2       12  219932.90625\n",
       "3       13     631.77002\n",
       "4       15       0.00000"
      ]
     },
     "execution_count": 12,
     "metadata": {},
     "output_type": "execute_result"
    }
   ],
   "source": [
    "target.head(5)"
   ]
  },
  {
   "cell_type": "code",
   "execution_count": 13,
   "metadata": {},
   "outputs": [
    {
     "data": {
      "text/plain": [
       "count    2.133450e+05\n",
       "mean     2.210490e+05\n",
       "std      9.894988e+05\n",
       "min     -7.100000e-01\n",
       "25%      0.000000e+00\n",
       "50%      3.174000e+01\n",
       "75%      1.000027e+05\n",
       "max      1.015605e+08\n",
       "Name: target, dtype: float64"
      ]
     },
     "execution_count": 13,
     "metadata": {},
     "output_type": "execute_result"
    }
   ],
   "source": [
    "target['target'].describe()"
   ]
  },
  {
   "cell_type": "code",
   "execution_count": 14,
   "metadata": {},
   "outputs": [
    {
     "data": {
      "image/png": "[encoded data removed]",
      "text/plain": [
       "<Figure size 1000x400 with 1 Axes>"
      ]
     },
     "metadata": {},
     "output_type": "display_data"
    }
   ],
   "source": [
    "plt.figure(figsize=(10,4))\n",
    "\n",
    "plt.hist(np.log1p(target['target']), bins = 200);"
   ]
  },
  {
   "cell_type": "code",
   "execution_count": 15,
   "metadata": {},
   "outputs": [
    {
     "data": {
      "image/png": "[encoded data removed]",
      "text/plain": [
       "<Figure size 1000x400 with 1 Axes>"
      ]
     },
     "metadata": {},
     "output_type": "display_data"
    }
   ],
   "source": [
    "plt.figure(figsize=(10,4))\n",
    "\n",
    "plt.hist(np.log1p(target.loc[target['target'] > 0, 'target']), bins = 200);"
   ]
  },
  {
   "cell_type": "code",
   "execution_count": 16,
   "metadata": {},
   "outputs": [],
   "source": [
    "train_pool = Pool(data = train,\n",
    "                    label = np.log1p(target['target']),\n",
    "                    cat_features = categorical_features_indices)"
   ]
  },
  {
   "cell_type": "code",
   "execution_count": null,
   "metadata": {},
   "outputs": [],
   "source": [
    "model = CatBoostRegressor(\n",
    "    iterations=100,\n",
    "    depth=8,\n",
    "    learning_rate=0.05,\n",
    "    loss_function='RMSE',\n",
    "    nan_mode='Max',\n",
    "    random_seed=314,\n",
    "    verbose=10,\n",
    "    l2_leaf_reg=5,\n",
    "    bootstrap_type='Bernoulli',  \n",
    "    subsample=0.8,  # Теперь поддерживается\n",
    "    grow_policy='Lossguide',\n",
    "    od_type='Iter',\n",
    "    od_wait=10\n",
    ")\n"
   ]
  },
  {
   "cell_type": "code",
   "execution_count": 33,
   "metadata": {},
   "outputs": [
    {
     "name": "stdout",
     "output_type": "stream",
     "text": [
      "0:\tlearn: 5.3465598\ttotal: 884ms\tremaining: 1m 27s\n",
      "99:\tlearn: 1.9911150\ttotal: 1m 32s\tremaining: 0us\n"
     ]
    },
    {
     "data": {
      "text/plain": [
       "<catboost.core.CatBoostRegressor at 0x136fe189750>"
      ]
     },
     "execution_count": 33,
     "metadata": {},
     "output_type": "execute_result"
    }
   ],
   "source": [
    "model.fit(train_pool)"
   ]
  },
  {
   "cell_type": "code",
   "execution_count": 19,
   "metadata": {},
   "outputs": [
    {
     "data": {
      "text/plain": [
       "(318451, 2)"
      ]
     },
     "execution_count": 19,
     "metadata": {},
     "output_type": "execute_result"
    }
   ],
   "source": [
    "sample = pd.read_csv('sample_submit_naive.csv')\n",
    "sample.shape"
   ]
  },
  {
   "cell_type": "code",
   "execution_count": 20,
   "metadata": {},
   "outputs": [
    {
     "data": {
      "text/html": [
       "<div>\n",
       "<style scoped>\n",
       "    .dataframe tbody tr th:only-of-type {\n",
       "        vertical-align: middle;\n",
       "    }\n",
       "\n",
       "    .dataframe tbody tr th {\n",
       "        vertical-align: top;\n",
       "    }\n",
       "\n",
       "    .dataframe thead th {\n",
       "        text-align: right;\n",
       "    }\n",
       "</style>\n",
       "<table border=\"1\" class=\"dataframe\">\n",
       "  <thead>\n",
       "    <tr style=\"text-align: right;\">\n",
       "      <th></th>\n",
       "      <th>user_id</th>\n",
       "      <th>predict</th>\n",
       "    </tr>\n",
       "  </thead>\n",
       "  <tbody>\n",
       "    <tr>\n",
       "      <th>0</th>\n",
       "      <td>1000008</td>\n",
       "      <td>1.004656e+06</td>\n",
       "    </tr>\n",
       "    <tr>\n",
       "      <th>1</th>\n",
       "      <td>1000009</td>\n",
       "      <td>0.000000e+00</td>\n",
       "    </tr>\n",
       "    <tr>\n",
       "      <th>2</th>\n",
       "      <td>1000013</td>\n",
       "      <td>5.047758e+02</td>\n",
       "    </tr>\n",
       "    <tr>\n",
       "      <th>3</th>\n",
       "      <td>1000016</td>\n",
       "      <td>1.680799e+05</td>\n",
       "    </tr>\n",
       "    <tr>\n",
       "      <th>4</th>\n",
       "      <td>1000017</td>\n",
       "      <td>2.222542e+02</td>\n",
       "    </tr>\n",
       "  </tbody>\n",
       "</table>\n",
       "</div>"
      ],
      "text/plain": [
       "   user_id       predict\n",
       "0  1000008  1.004656e+06\n",
       "1  1000009  0.000000e+00\n",
       "2  1000013  5.047758e+02\n",
       "3  1000016  1.680799e+05\n",
       "4  1000017  2.222542e+02"
      ]
     },
     "execution_count": 20,
     "metadata": {},
     "output_type": "execute_result"
    }
   ],
   "source": [
    "sample.head(5)"
   ]
  },
  {
   "cell_type": "code",
   "execution_count": 21,
   "metadata": {},
   "outputs": [
    {
     "data": {
      "text/html": [
       "<div>\n",
       "<style scoped>\n",
       "    .dataframe tbody tr th:only-of-type {\n",
       "        vertical-align: middle;\n",
       "    }\n",
       "\n",
       "    .dataframe tbody tr th {\n",
       "        vertical-align: top;\n",
       "    }\n",
       "\n",
       "    .dataframe thead th {\n",
       "        text-align: right;\n",
       "    }\n",
       "</style>\n",
       "<table border=\"1\" class=\"dataframe\">\n",
       "  <thead>\n",
       "    <tr style=\"text-align: right;\">\n",
       "      <th></th>\n",
       "      <th>user_id</th>\n",
       "      <th>app_children_cnt</th>\n",
       "      <th>app_dependent_cnt</th>\n",
       "      <th>app_family_cnt</th>\n",
       "      <th>app_income_app</th>\n",
       "      <th>app_real_estate_ind</th>\n",
       "      <th>app_vehicle_ind</th>\n",
       "      <th>avg_dep_avg_balance_12month_amt</th>\n",
       "      <th>avg_dep_avg_balance_12month_amt_term</th>\n",
       "      <th>avg_dep_avg_balance_12month_amt_term_savings</th>\n",
       "      <th>...</th>\n",
       "      <th>savings_sum_oms_debet_3m</th>\n",
       "      <th>savings_sum_oms_debet_6m</th>\n",
       "      <th>savings_sum_oms_debet_9m</th>\n",
       "      <th>savings_sum_oms_debet_12m</th>\n",
       "      <th>savings_service_model_cd</th>\n",
       "      <th>savings_pension_flg</th>\n",
       "      <th>savings_deposit_flg</th>\n",
       "      <th>savings_safe_acc_flg</th>\n",
       "      <th>savings_broker_flg</th>\n",
       "      <th>savings_oms_flg</th>\n",
       "    </tr>\n",
       "  </thead>\n",
       "  <tbody>\n",
       "    <tr>\n",
       "      <th>0</th>\n",
       "      <td>1000008</td>\n",
       "      <td>NaN</td>\n",
       "      <td>NaN</td>\n",
       "      <td>NaN</td>\n",
       "      <td>NaN</td>\n",
       "      <td>NaN</td>\n",
       "      <td>NaN</td>\n",
       "      <td>998138.562500</td>\n",
       "      <td>2678.699219</td>\n",
       "      <td>1.009246e+06</td>\n",
       "      <td>...</td>\n",
       "      <td>0.000000</td>\n",
       "      <td>0.000000</td>\n",
       "      <td>67.893509</td>\n",
       "      <td>0.000000</td>\n",
       "      <td>Массовый</td>\n",
       "      <td>0</td>\n",
       "      <td>0</td>\n",
       "      <td>1</td>\n",
       "      <td>0</td>\n",
       "      <td>0</td>\n",
       "    </tr>\n",
       "    <tr>\n",
       "      <th>1</th>\n",
       "      <td>1000009</td>\n",
       "      <td>0.0</td>\n",
       "      <td>NaN</td>\n",
       "      <td>NaN</td>\n",
       "      <td>29125.394531</td>\n",
       "      <td>0.0</td>\n",
       "      <td>0.0</td>\n",
       "      <td>0.000030</td>\n",
       "      <td>NaN</td>\n",
       "      <td>NaN</td>\n",
       "      <td>...</td>\n",
       "      <td>8.407050</td>\n",
       "      <td>54.111416</td>\n",
       "      <td>70.213890</td>\n",
       "      <td>82.739632</td>\n",
       "      <td>Массовый</td>\n",
       "      <td>0</td>\n",
       "      <td>0</td>\n",
       "      <td>1</td>\n",
       "      <td>0</td>\n",
       "      <td>0</td>\n",
       "    </tr>\n",
       "    <tr>\n",
       "      <th>2</th>\n",
       "      <td>1000013</td>\n",
       "      <td>0.0</td>\n",
       "      <td>0.0</td>\n",
       "      <td>0.0</td>\n",
       "      <td>59536.816406</td>\n",
       "      <td>0.0</td>\n",
       "      <td>0.0</td>\n",
       "      <td>54086.031250</td>\n",
       "      <td>NaN</td>\n",
       "      <td>3.513455e+04</td>\n",
       "      <td>...</td>\n",
       "      <td>0.000000</td>\n",
       "      <td>0.000000</td>\n",
       "      <td>0.000000</td>\n",
       "      <td>56.554066</td>\n",
       "      <td>Массовый</td>\n",
       "      <td>0</td>\n",
       "      <td>0</td>\n",
       "      <td>1</td>\n",
       "      <td>0</td>\n",
       "      <td>0</td>\n",
       "    </tr>\n",
       "    <tr>\n",
       "      <th>3</th>\n",
       "      <td>1000016</td>\n",
       "      <td>0.0</td>\n",
       "      <td>NaN</td>\n",
       "      <td>NaN</td>\n",
       "      <td>66908.468750</td>\n",
       "      <td>0.0</td>\n",
       "      <td>0.0</td>\n",
       "      <td>60340.105469</td>\n",
       "      <td>NaN</td>\n",
       "      <td>6.347482e+04</td>\n",
       "      <td>...</td>\n",
       "      <td>33.321732</td>\n",
       "      <td>59.461399</td>\n",
       "      <td>0.000000</td>\n",
       "      <td>0.000000</td>\n",
       "      <td>Массовый</td>\n",
       "      <td>0</td>\n",
       "      <td>0</td>\n",
       "      <td>1</td>\n",
       "      <td>1</td>\n",
       "      <td>0</td>\n",
       "    </tr>\n",
       "    <tr>\n",
       "      <th>4</th>\n",
       "      <td>1000017</td>\n",
       "      <td>NaN</td>\n",
       "      <td>NaN</td>\n",
       "      <td>NaN</td>\n",
       "      <td>NaN</td>\n",
       "      <td>NaN</td>\n",
       "      <td>NaN</td>\n",
       "      <td>0.000030</td>\n",
       "      <td>NaN</td>\n",
       "      <td>0.000000e+00</td>\n",
       "      <td>...</td>\n",
       "      <td>26.527195</td>\n",
       "      <td>0.000000</td>\n",
       "      <td>56.962830</td>\n",
       "      <td>59.217648</td>\n",
       "      <td>Массовый</td>\n",
       "      <td>0</td>\n",
       "      <td>0</td>\n",
       "      <td>1</td>\n",
       "      <td>0</td>\n",
       "      <td>0</td>\n",
       "    </tr>\n",
       "  </tbody>\n",
       "</table>\n",
       "<p>5 rows × 280 columns</p>\n",
       "</div>"
      ],
      "text/plain": [
       "   user_id  app_children_cnt  app_dependent_cnt  app_family_cnt  \\\n",
       "0  1000008               NaN                NaN             NaN   \n",
       "1  1000009               0.0                NaN             NaN   \n",
       "2  1000013               0.0                0.0             0.0   \n",
       "3  1000016               0.0                NaN             NaN   \n",
       "4  1000017               NaN                NaN             NaN   \n",
       "\n",
       "   app_income_app  app_real_estate_ind  app_vehicle_ind  \\\n",
       "0             NaN                  NaN              NaN   \n",
       "1    29125.394531                  0.0              0.0   \n",
       "2    59536.816406                  0.0              0.0   \n",
       "3    66908.468750                  0.0              0.0   \n",
       "4             NaN                  NaN              NaN   \n",
       "\n",
       "   avg_dep_avg_balance_12month_amt  avg_dep_avg_balance_12month_amt_term  \\\n",
       "0                    998138.562500                           2678.699219   \n",
       "1                         0.000030                                   NaN   \n",
       "2                     54086.031250                                   NaN   \n",
       "3                     60340.105469                                   NaN   \n",
       "4                         0.000030                                   NaN   \n",
       "\n",
       "   avg_dep_avg_balance_12month_amt_term_savings  ...  \\\n",
       "0                                  1.009246e+06  ...   \n",
       "1                                           NaN  ...   \n",
       "2                                  3.513455e+04  ...   \n",
       "3                                  6.347482e+04  ...   \n",
       "4                                  0.000000e+00  ...   \n",
       "\n",
       "   savings_sum_oms_debet_3m  savings_sum_oms_debet_6m  \\\n",
       "0                  0.000000                  0.000000   \n",
       "1                  8.407050                 54.111416   \n",
       "2                  0.000000                  0.000000   \n",
       "3                 33.321732                 59.461399   \n",
       "4                 26.527195                  0.000000   \n",
       "\n",
       "   savings_sum_oms_debet_9m  savings_sum_oms_debet_12m  \\\n",
       "0                 67.893509                   0.000000   \n",
       "1                 70.213890                  82.739632   \n",
       "2                  0.000000                  56.554066   \n",
       "3                  0.000000                   0.000000   \n",
       "4                 56.962830                  59.217648   \n",
       "\n",
       "   savings_service_model_cd  savings_pension_flg  savings_deposit_flg  \\\n",
       "0                  Массовый                    0                    0   \n",
       "1                  Массовый                    0                    0   \n",
       "2                  Массовый                    0                    0   \n",
       "3                  Массовый                    0                    0   \n",
       "4                  Массовый                    0                    0   \n",
       "\n",
       "   savings_safe_acc_flg  savings_broker_flg  savings_oms_flg  \n",
       "0                     1                   0                0  \n",
       "1                     1                   0                0  \n",
       "2                     1                   0                0  \n",
       "3                     1                   1                0  \n",
       "4                     1                   0                0  \n",
       "\n",
       "[5 rows x 280 columns]"
      ]
     },
     "execution_count": 21,
     "metadata": {},
     "output_type": "execute_result"
    }
   ],
   "source": [
    "test.head(5)"
   ]
  },
  {
   "cell_type": "code",
   "execution_count": 22,
   "metadata": {},
   "outputs": [],
   "source": [
    "test_pool = Pool(data = test,\n",
    "                 cat_features = categorical_features_indices)"
   ]
  },
  {
   "cell_type": "code",
   "execution_count": 23,
   "metadata": {},
   "outputs": [
    {
     "data": {
      "text/plain": [
       "(318451,)"
      ]
     },
     "execution_count": 23,
     "metadata": {},
     "output_type": "execute_result"
    }
   ],
   "source": [
    "test_predict = model.predict(test_pool)\n",
    "test_predict.shape"
   ]
  },
  {
   "cell_type": "code",
   "execution_count": 24,
   "metadata": {},
   "outputs": [],
   "source": [
    "test_full_predict = np.exp(test_predict) - 1"
   ]
  },
  {
   "cell_type": "code",
   "execution_count": 25,
   "metadata": {},
   "outputs": [],
   "source": [
    "sample['predict'] = test_full_predict"
   ]
  },
  {
   "cell_type": "code",
   "execution_count": 26,
   "metadata": {},
   "outputs": [
    {
     "data": {
      "text/html": [
       "<div>\n",
       "<style scoped>\n",
       "    .dataframe tbody tr th:only-of-type {\n",
       "        vertical-align: middle;\n",
       "    }\n",
       "\n",
       "    .dataframe tbody tr th {\n",
       "        vertical-align: top;\n",
       "    }\n",
       "\n",
       "    .dataframe thead th {\n",
       "        text-align: right;\n",
       "    }\n",
       "</style>\n",
       "<table border=\"1\" class=\"dataframe\">\n",
       "  <thead>\n",
       "    <tr style=\"text-align: right;\">\n",
       "      <th></th>\n",
       "      <th>user_id</th>\n",
       "      <th>predict</th>\n",
       "    </tr>\n",
       "  </thead>\n",
       "  <tbody>\n",
       "    <tr>\n",
       "      <th>0</th>\n",
       "      <td>1000008</td>\n",
       "      <td>67807.784738</td>\n",
       "    </tr>\n",
       "    <tr>\n",
       "      <th>1</th>\n",
       "      <td>1000009</td>\n",
       "      <td>0.116805</td>\n",
       "    </tr>\n",
       "    <tr>\n",
       "      <th>2</th>\n",
       "      <td>1000013</td>\n",
       "      <td>11.701968</td>\n",
       "    </tr>\n",
       "    <tr>\n",
       "      <th>3</th>\n",
       "      <td>1000016</td>\n",
       "      <td>141.802913</td>\n",
       "    </tr>\n",
       "    <tr>\n",
       "      <th>4</th>\n",
       "      <td>1000017</td>\n",
       "      <td>9.016016</td>\n",
       "    </tr>\n",
       "  </tbody>\n",
       "</table>\n",
       "</div>"
      ],
      "text/plain": [
       "   user_id       predict\n",
       "0  1000008  67807.784738\n",
       "1  1000009      0.116805\n",
       "2  1000013     11.701968\n",
       "3  1000016    141.802913\n",
       "4  1000017      9.016016"
      ]
     },
     "execution_count": 26,
     "metadata": {},
     "output_type": "execute_result"
    }
   ],
   "source": [
    "sample.head(5)"
   ]
  },
  {
   "cell_type": "code",
   "execution_count": 27,
   "metadata": {},
   "outputs": [],
   "source": [
    "sample.to_csv('submit_baseline_catboost.csv', index=False)"
   ]
  }
 ],
 "metadata": {
  "kernelspec": {
   "display_name": "env",
   "language": "python",
   "name": "python3"
  },
  "language_info": {
   "codemirror_mode": {
    "name": "ipython",
    "version": 3
   },
   "file_extension": ".py",
   "mimetype": "text/x-python",
   "name": "python",
   "nbconvert_exporter": "python",
   "pygments_lexer": "ipython3",
   "version": "3.11.9"
  }
 },
 "nbformat": 4,
 "nbformat_minor": 2
}
